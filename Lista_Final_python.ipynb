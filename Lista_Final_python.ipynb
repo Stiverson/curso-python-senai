{
  "nbformat": 4,
  "nbformat_minor": 0,
  "metadata": {
    "colab": {
      "provenance": [],
      "authorship_tag": "ABX9TyMO25AbIvR/navBZN745F8u",
      "include_colab_link": true
    },
    "kernelspec": {
      "name": "python3",
      "display_name": "Python 3"
    },
    "language_info": {
      "name": "python"
    }
  },
  "cells": [
    {
      "cell_type": "markdown",
      "metadata": {
        "id": "view-in-github",
        "colab_type": "text"
      },
      "source": [
        "<a href=\"https://colab.research.google.com/github/Stiverson/curso-python-senai/blob/main/Lista_Final_python.ipynb\" target=\"_parent\"><img src=\"https://colab.research.google.com/assets/colab-badge.svg\" alt=\"Open In Colab\"/></a>"
      ]
    },
    {
      "cell_type": "markdown",
      "source": [
        "Tendo como dado de entrada a altura (h) de uma pessoa, construa um algoritmo\n",
        "que calcule seu peso ideal, utilizando as seguintes fórmulas:\n",
        "Para homens: (72.7 * h) – 58\n",
        "Para mulheres: (62.1 * h) - 44.7\n",
        "OBS: Permitir que o usuário escolha entre os Gêneros para realizar o cálculo de\n",
        "acordo. Caso queira, pode realizar um Loop para verificar se o usuário quer realizar\n",
        "outro cálculo ou não."
      ],
      "metadata": {
        "id": "VgExGfYghuyv"
      }
    },
    {
      "cell_type": "code",
      "source": [
        "def calcular_peso_ideal(altura, genero):\n",
        "    if genero.upper() == 'M':\n",
        "        peso_ideal = (72.7 * altura) - 58\n",
        "    elif genero.upper() == 'F':\n",
        "        peso_ideal = (62.1 * altura) - 44.7\n",
        "    else:\n",
        "        return\n",
        "\n",
        "    return peso_ideal\n",
        "\n",
        "def parar_calculo():\n",
        "    global continuar_programa\n",
        "    continuar_programa = False\n",
        "\n",
        "continuar_programa = True\n",
        "while continuar_programa:\n",
        "    altura = float(input(\"Digite a sua altura em metros ex:1.68 : \"))\n",
        "    genero = input(\"Digite o gênero (M/F): \")\n",
        "    peso_ideal = calcular_peso_ideal(altura, genero)\n",
        "    print(\"Seu peso ideal é:\", peso_ideal)\n",
        "\n",
        "    resposta = input(\"Deseja calcular novamente? (S/N): \")\n",
        "    if resposta.upper() != 'S':\n",
        "        parar_calculo()"
      ],
      "metadata": {
        "colab": {
          "base_uri": "https://localhost:8080/"
        },
        "collapsed": true,
        "id": "7erO6AnVhs43",
        "outputId": "bdbb8310-3cb1-4626-f0b8-e3ce3187f41c"
      },
      "execution_count": 3,
      "outputs": [
        {
          "name": "stdout",
          "output_type": "stream",
          "text": [
            "Digite a sua altura em metros ex:1.68 : 1.75\n",
            "Digite o gênero (M/F): M\n",
            "Seu peso ideal é: 69.22500000000001\n",
            "Deseja calcular novamente? (S/N): N\n"
          ]
        }
      ]
    },
    {
      "cell_type": "markdown",
      "source": [
        "Faça um Programa que pergunte em que turno você estuda. Peça para digitar M-\n",
        "matutino ou V-Vespertino ou N- Noturno. Imprima a mensagem \"Bom Dia!\", \"Boa\n",
        "\n",
        "Tarde!\" ou \"Boa Noite!\" ou \"Valor Inválido!\", conforme o caso."
      ],
      "metadata": {
        "id": "_6EyYxsAi4TW"
      }
    },
    {
      "cell_type": "code",
      "source": [
        "def saudacoes_estudo(turno):\n",
        "\n",
        "  if turno.upper() == 'M':\n",
        "    print(\"Bom Dia! Uma boa manhã de estudos!\")\n",
        "  elif turno.upper() == 'V':\n",
        "    print(\"Boa Tarde! Uma boa tarde estudos!\")\n",
        "  elif turno.upper() == 'N':\n",
        "    print(\"Boa Noite! Uma boa noite de estudos!\")\n",
        "  else:\n",
        "    print(f\"Valor Inválido!  Não conheço esse turno. Digite M, V ou N.\")\n",
        "\n",
        "while True:\n",
        "  turno = input(\"Em que turno você estuda? (M-matutino, V-Vespertino, N-Noturno): \")\n",
        "  saudacoes_estudo(turno)\n",
        "\n",
        "  resposta = input(\"Deseja verificar outro turno? (S/N): \")\n",
        "  if resposta.upper() != 'S':\n",
        "    break\n",
        "\n",
        "print(\"Até mais! Bons estudos!\")"
      ],
      "metadata": {
        "colab": {
          "base_uri": "https://localhost:8080/"
        },
        "collapsed": true,
        "id": "LPhbQeT6jLlW",
        "outputId": "1dcdcbe2-6f45-4d63-eafa-a2a93bd462de"
      },
      "execution_count": 6,
      "outputs": [
        {
          "output_type": "stream",
          "name": "stdout",
          "text": [
            "Em que turno você estuda? (M-matutino, V-Vespertino, N-Noturno): V\n",
            "Boa Tarde! Uma boa tarde estudos!\n",
            "Deseja verificar outro turno? (S/N): S\n",
            "Em que turno você estuda? (M-matutino, V-Vespertino, N-Noturno): N\n",
            "Boa Noite! Uma boa noite de estudos!\n",
            "Deseja verificar outro turno? (S/N): S\n",
            "Em que turno você estuda? (M-matutino, V-Vespertino, N-Noturno): M\n",
            "Bom Dia! Uma boa manhã de estudos!\n",
            "Deseja verificar outro turno? (S/N): N\n",
            "Até mais! Bons estudos!\n"
          ]
        }
      ]
    },
    {
      "cell_type": "markdown",
      "source": [],
      "metadata": {
        "id": "2MEOBxaPkYzH"
      }
    },
    {
      "cell_type": "markdown",
      "source": [
        "Faça um programa que calcule as raízes de uma equação do segundo grau, na\n",
        "forma ax2 + bx + c. O programa deverá pedir os valores de a, b e c e fazer as\n",
        "consistências, informando ao usuário nas seguintes situações:\n",
        "a. Se o usuário informar o valor de A igual a zero, a equação não é do segundo\n",
        "grau e o programa não deve fazer pedir os demais valores, sendo encerrado;\n",
        "b. Se o delta calculado for negativo, a equação não possui raízes reais. Informe\n",
        "ao usuário e encerre o programa;\n",
        "c. Se o delta calculado for igual a zero a equação possui apenas uma raiz real;\n",
        "informe-a ao usuário;\n",
        "d. Se o delta for positivo, a equação possui duas raízes reais; informe-as ao\n",
        "usuário."
      ],
      "metadata": {
        "id": "SedZRXgkmMA3"
      }
    },
    {
      "cell_type": "code",
      "source": [
        "import math\n",
        "\n",
        "def calculoDeRaizes(a, b, c):\n",
        "\n",
        "  if a == 0:\n",
        "    print(\"Esta não é uma equação de segundo grau.\")\n",
        "    return None\n",
        "\n",
        "  delta = b**2 - 4*a*c\n",
        "\n",
        "  if delta < 0:\n",
        "    print(\"Não existem raízes reais.\")\n",
        "    return None\n",
        "  elif delta == 0:\n",
        "    x = -b / (2*a)\n",
        "    print(\"O resultado é uma Raiz única:\", x)\n",
        "    return (x,)\n",
        "  else:\n",
        "    x1 = (-b + math.sqrt(delta)) / (2*a)\n",
        "    x2 = (-b - math.sqrt(delta)) / (2*a)\n",
        "    print(\"Duas raízes reais:\", x1, x2)\n",
        "    return (x1, x2)\n",
        "\n",
        "\n",
        "a = float(input(\"Digite o valor de a: \"))\n",
        "b = float(input(\"Digite o valor de b: \"))\n",
        "c = float(input(\"Digite o valor de c: \"))\n",
        "\n",
        "raizes = calculoDeRaizes(a, b, c)"
      ],
      "metadata": {
        "colab": {
          "base_uri": "https://localhost:8080/"
        },
        "collapsed": true,
        "id": "fEx4AR1LmHmn",
        "outputId": "f609b120-19cd-4db8-8ae7-81e4af96e249"
      },
      "execution_count": 7,
      "outputs": [
        {
          "output_type": "stream",
          "name": "stdout",
          "text": [
            "Digite o valor de a: 6\n",
            "Digite o valor de b: 8\n",
            "Digite o valor de c: 4\n",
            "Não existem raízes reais.\n"
          ]
        }
      ]
    },
    {
      "cell_type": "markdown",
      "source": [
        "Faça um programa que leia e valide as seguintes informações:\n",
        "a. Nome: maior que 3 caracteres;\n",
        "b. Idade: entre 0 e 150;\n",
        "c. Salário: maior que zero;\n",
        "d. Sexo: 'f' ou 'm';\n",
        "e. Estado Civil: 's', 'c', 'v', 'd'"
      ],
      "metadata": {
        "id": "6Jnq7ZFGnuVX"
      }
    },
    {
      "cell_type": "code",
      "source": [
        "def validar_informacoes():\n",
        "    while True:\n",
        "        nome = input(\"Digite seu nome (maior que 3 caracteres): \")\n",
        "        if len(nome) > 3:\n",
        "            break\n",
        "        else:\n",
        "            print(\"Nome inválido. Digite um nome com mais de 3 caracteres.\")\n",
        "\n",
        "    while True:\n",
        "        idade = int(input(\"Digite sua idade (entre 0 e 150): \"))\n",
        "        if 0 <= idade <= 150:\n",
        "            break\n",
        "        else:\n",
        "            print(\"Idade inválida. Digite uma idade entre 0 e 150.\")\n",
        "\n",
        "    while True:\n",
        "        salario = float(input(\"Digite seu salário (maior que zero): \"))\n",
        "        if salario > 0:\n",
        "            break\n",
        "        else:\n",
        "            print(\"Salário inválido. Digite um salário maior que zero.\")\n",
        "\n",
        "    while True:\n",
        "        sexo = input(\"Digite seu sexo (f/m): \").lower()\n",
        "        if sexo in ('f', 'm'):\n",
        "            break\n",
        "        else:\n",
        "            print(\"Sexo inválido. Digite 'f' ou 'm'.\")\n",
        "\n",
        "    while True:\n",
        "        estado_civil = input(\"Digite seu estado civil (s/c/v/d): \").lower()\n",
        "        if estado_civil in ('s', 'c', 'v', 'd'):\n",
        "            break\n",
        "        else:\n",
        "            print(\"Estado civil inválido. Digite 's', 'c', 'v' ou 'd'.\")\n",
        "\n",
        "    print(\"\\nInformações Validadas:\")\n",
        "    print(f\"Nome: {nome}\")\n",
        "    print(f\"Idade: {idade}\")\n",
        "    print(f\"Salário: {salario}\")\n",
        "    print(f\"Sexo: {sexo}\")\n",
        "    print(f\"Estado Civil: {estado_civil}\")\n",
        "\n",
        "validar_informacoes()"
      ],
      "metadata": {
        "colab": {
          "base_uri": "https://localhost:8080/"
        },
        "collapsed": true,
        "id": "XrKPpxDNo6Gn",
        "outputId": "add02fa6-8052-40b6-a617-661f7a5ee59d"
      },
      "execution_count": 8,
      "outputs": [
        {
          "output_type": "stream",
          "name": "stdout",
          "text": [
            "Digite seu nome (maior que 3 caracteres): tiv\n",
            "Nome inválido. Digite um nome com mais de 3 caracteres.\n",
            "Digite seu nome (maior que 3 caracteres): tives\n",
            "Digite sua idade (entre 0 e 150): -1\n",
            "Idade inválida. Digite uma idade entre 0 e 150.\n",
            "Digite sua idade (entre 0 e 150): 37\n",
            "Digite seu salário (maior que zero): -3\n",
            "Salário inválido. Digite um salário maior que zero.\n",
            "Digite seu salário (maior que zero): 5000\n",
            "Digite seu sexo (f/m): l\n",
            "Sexo inválido. Digite 'f' ou 'm'.\n",
            "Digite seu sexo (f/m): M\n",
            "Digite seu estado civil (s/c/v/d): c\n",
            "\n",
            "Informações Validadas:\n",
            "Nome: tives\n",
            "Idade: 37\n",
            "Salário: 5000.0\n",
            "Sexo: m\n",
            "Estado Civil: c\n"
          ]
        }
      ]
    },
    {
      "cell_type": "markdown",
      "source": [
        "Faça um Programa que leia dois vetores (lista) com 10 elementos cada. Gere um\n",
        "terceiro vetor de 20 elementos vindos dos dois vetores anteriores."
      ],
      "metadata": {
        "id": "ybEYi9q_p42e"
      }
    },
    {
      "cell_type": "code",
      "source": [
        "primeiraLista = []\n",
        "segundaLista = []\n",
        "\n",
        "while True:\n",
        "    e = int(input(\"Digite 10 valores para a primeira lista (0 para finalizar a lista): \"))\n",
        "    if e == 0:\n",
        "        break\n",
        "    primeiraLista.append(e)\n",
        "while True:\n",
        "    e = int(input(\"Digite 10 valores11 para a segunda lista (0 para finalizar a lista): \"))\n",
        "    if e == 0:\n",
        "        break\n",
        "    segundaLista.append(e)\n",
        "\n",
        "terceiraLista = primeiraLista[:]\n",
        "terceiraLista.extend(segundaLista)\n",
        "x = 0\n",
        "while x < len(terceiraLista):\n",
        "    print(f\"{x}: {terceiraLista[x]}\")\n",
        "    x = x + 1"
      ],
      "metadata": {
        "colab": {
          "base_uri": "https://localhost:8080/"
        },
        "collapsed": true,
        "id": "CnhF_-Nop7Cg",
        "outputId": "b0bd09fd-d90e-488d-d1ca-86b890c9c3f0"
      },
      "execution_count": 10,
      "outputs": [
        {
          "output_type": "stream",
          "name": "stdout",
          "text": [
            "Digite 10 valores para a primeira lista (0 para finalizar a lista): 1\n",
            "Digite 10 valores para a primeira lista (0 para finalizar a lista): 1\n",
            "Digite 10 valores para a primeira lista (0 para finalizar a lista): 1\n",
            "Digite 10 valores para a primeira lista (0 para finalizar a lista): 1\n",
            "Digite 10 valores para a primeira lista (0 para finalizar a lista): 1\n",
            "Digite 10 valores para a primeira lista (0 para finalizar a lista): 1\n",
            "Digite 10 valores para a primeira lista (0 para finalizar a lista): 1\n",
            "Digite 10 valores para a primeira lista (0 para finalizar a lista): 1\n",
            "Digite 10 valores para a primeira lista (0 para finalizar a lista): 1\n",
            "Digite 10 valores para a primeira lista (0 para finalizar a lista): 1\n",
            "Digite 10 valores para a primeira lista (0 para finalizar a lista): 0\n",
            "Digite 10 valores11 para a segunda lista (0 para finalizar a lista): 1\n",
            "Digite 10 valores11 para a segunda lista (0 para finalizar a lista): 1\n",
            "Digite 10 valores11 para a segunda lista (0 para finalizar a lista): 1\n",
            "Digite 10 valores11 para a segunda lista (0 para finalizar a lista): 1\n",
            "Digite 10 valores11 para a segunda lista (0 para finalizar a lista): 1\n",
            "Digite 10 valores11 para a segunda lista (0 para finalizar a lista): 1\n",
            "Digite 10 valores11 para a segunda lista (0 para finalizar a lista): 1\n",
            "Digite 10 valores11 para a segunda lista (0 para finalizar a lista): 1\n",
            "Digite 10 valores11 para a segunda lista (0 para finalizar a lista): 1\n",
            "Digite 10 valores11 para a segunda lista (0 para finalizar a lista): 1\n",
            "Digite 10 valores11 para a segunda lista (0 para finalizar a lista): 0\n",
            "0: 1\n",
            "1: 1\n",
            "2: 1\n",
            "3: 1\n",
            "4: 1\n",
            "5: 1\n",
            "6: 1\n",
            "7: 1\n",
            "8: 1\n",
            "9: 1\n",
            "10: 1\n",
            "11: 1\n",
            "12: 1\n",
            "13: 1\n",
            "14: 1\n",
            "15: 1\n",
            "16: 1\n",
            "17: 1\n",
            "18: 1\n",
            "19: 1\n"
          ]
        }
      ]
    },
    {
      "cell_type": "markdown",
      "source": [
        "A série de Fibonacci é formada pela sequência 0, 1, 1, 2, 3, 5, 8, 13, 21, 34, 55, ... .\n",
        "Faça um programa que gere a série até que o valor seja maior que 500."
      ],
      "metadata": {
        "id": "oJJ9C8WNqgWQ"
      }
    },
    {
      "cell_type": "code",
      "source": [
        "def fibo_int(limit):\n",
        "    a, b = 0, 1\n",
        "    while a <= limit:\n",
        "        user_input = input(f\"Valor atual: {a}. Deseja Continuar? (s/n): \")\n",
        "        if user_input.lower() == 'n':\n",
        "            break\n",
        "        print(a)\n",
        "        a, b = b, a + b\n",
        "\n",
        "\n",
        "fibo_int(500)"
      ],
      "metadata": {
        "colab": {
          "base_uri": "https://localhost:8080/"
        },
        "collapsed": true,
        "id": "3BlX9YuYrTT4",
        "outputId": "72c03890-4b11-4d51-fe8b-99b30018466f"
      },
      "execution_count": 14,
      "outputs": [
        {
          "output_type": "stream",
          "name": "stdout",
          "text": [
            "Valor atual: 0. Deseja Continuar? (s/n): s\n",
            "0\n",
            "Valor atual: 1. Deseja Continuar? (s/n): s\n",
            "1\n",
            "Valor atual: 1. Deseja Continuar? (s/n): s\n",
            "1\n",
            "Valor atual: 2. Deseja Continuar? (s/n): s\n",
            "2\n",
            "Valor atual: 3. Deseja Continuar? (s/n): s\n",
            "3\n",
            "Valor atual: 5. Deseja Continuar? (s/n): s\n",
            "5\n",
            "Valor atual: 8. Deseja Continuar? (s/n): s\n",
            "8\n",
            "Valor atual: 13. Deseja Continuar? (s/n): s\n",
            "13\n",
            "Valor atual: 21. Deseja Continuar? (s/n): s\n",
            "21\n",
            "Valor atual: 34. Deseja Continuar? (s/n): s\n",
            "34\n",
            "Valor atual: 55. Deseja Continuar? (s/n): s\n",
            "55\n",
            "Valor atual: 89. Deseja Continuar? (s/n): s\n",
            "89\n",
            "Valor atual: 144. Deseja Continuar? (s/n): s\n",
            "144\n",
            "Valor atual: 233. Deseja Continuar? (s/n): s\n",
            "233\n",
            "Valor atual: 377. Deseja Continuar? (s/n): s\n",
            "377\n"
          ]
        }
      ]
    },
    {
      "cell_type": "markdown",
      "source": [
        "Uma fruteira está vendendo frutas com a seguinte tabela de preços:\n",
        "a. Até 5 Kg Acima de 5 Kg\n",
        "b. Morango R$ 2,50 por Kg R$ 2,20 por Kg\n",
        "c. Maçã R$ 1,80 por Kg R$ 1,50 por Kg\n",
        "Se o cliente comprar mais de 8 Kg em frutas ou o valor total da compra ultrapassar\n",
        "R$ 25,00, receberá ainda um desconto de 10% sobre este total. Escreva um\n",
        "algoritmo para ler a quantidade (em Kg) de morangos e a quantidade (em Kg) de\n",
        "maças adquiridas e escreva o valor a ser pago pelo cliente."
      ],
      "metadata": {
        "id": "YOlFDKberFxn"
      }
    },
    {
      "cell_type": "code",
      "source": [
        "def calcular_preco_fruta(fruta, quantidade):\n",
        "\n",
        "    preco_por_kg = {\n",
        "        \"morango\": 2.5 if quantidade <= 5 else 2.2,\n",
        "        \"maçã\": 1.8 if quantidade <= 5 else 1.5\n",
        "    }\n",
        "    return preco_por_kg[fruta] * quantidade\n",
        "\n",
        "def aplicar_desconto(valor_total):\n",
        "\n",
        "    if valor_total > 25:\n",
        "        return valor_total * 0.9\n",
        "    return valor_total\n",
        "\n",
        "\n",
        "morangos = float(input(\"Digite a quantidade de morangos em kg: \"))\n",
        "macas = float(input(\"Digite a quantidade de maçãs em kg: \"))\n",
        "\n",
        "\n",
        "preco_morangos = calcular_preco_fruta(\"morango\", morangos)\n",
        "preco_macas = calcular_preco_fruta(\"maçã\", macas)\n",
        "\n",
        "\n",
        "valor_total = preco_morangos + preco_macas\n",
        "\n",
        "\n",
        "valor_com_desconto = aplicar_desconto(valor_total)\n",
        "\n",
        "\n",
        "print(f\"O valor total a ser pago é: R$ {valor_com_desconto:.2f}\")"
      ],
      "metadata": {
        "colab": {
          "base_uri": "https://localhost:8080/"
        },
        "collapsed": true,
        "id": "QjsKUlHYrEj5",
        "outputId": "2069908e-7a5e-472b-c4ac-ab434c74c014"
      },
      "execution_count": 11,
      "outputs": [
        {
          "output_type": "stream",
          "name": "stdout",
          "text": [
            "Digite a quantidade de morangos em kg: 22\n",
            "Digite a quantidade de maçãs em kg: 14\n",
            "O valor total a ser pago é: R$ 62.46\n"
          ]
        }
      ]
    },
    {
      "cell_type": "markdown",
      "source": [
        "Faça um Programa que peça a temperatura em graus Fahrenheit, transforme e\n",
        "mostre a temperatura em graus Celsius.\n",
        "C = 5 * ((F-32) / 9)"
      ],
      "metadata": {
        "id": "EZA07HoZsXPH"
      }
    },
    {
      "cell_type": "code",
      "source": [
        "def celsius_para_fahrenheit(celsius):\n",
        "\n",
        "\n",
        "  fahrenheit = celsius * (9/5) + 32\n",
        "  return fahrenheit\n",
        "\n",
        "def fahrenheit_para_celsius(fahrenheit):\n",
        "\n",
        "  celsius = (fahrenheit - 32) * 5/9\n",
        "  return celsius\n",
        "\n",
        "def main():\n",
        "  while True:\n",
        "    print(\"Menu de Conversão de Temperaturas:\")\n",
        "    print(\"1. Celsius para Fahrenheit\")\n",
        "    print(\"2. Fahrenheit para Celsius\")\n",
        "    print(\"3. Sair\")\n",
        "\n",
        "    opcao = input(\"Escolha uma opção: \")\n",
        "\n",
        "    if opcao == '1':\n",
        "      celsius = float(input(\"Digite a temperatura em Celsius: \"))\n",
        "      fahrenheit = celsius_para_fahrenheit(celsius)\n",
        "      print(f\"{celsius}°C equivale a {fahrenheit:.2f}°F\")\n",
        "    elif opcao == '2':\n",
        "      fahrenheit = float(input(\"Digite a temperatura em Fahrenheit: \"))\n",
        "      celsius = fahrenheit_para_celsius(fahrenheit)\n",
        "      print(f\"{fahrenheit}°F equivale a {celsius:.2f}°C\")\n",
        "    elif opcao == '3':\n",
        "      print(\"Saindo...\")\n",
        "      break\n",
        "    else:\n",
        "      print(\"Opção inválida. Tente novamente.\")\n",
        "\n",
        "if __name__ == \"__main__\":\n",
        "  main()"
      ],
      "metadata": {
        "colab": {
          "base_uri": "https://localhost:8080/"
        },
        "collapsed": true,
        "id": "e4YFbfvYsayp",
        "outputId": "ad9dd11f-9db5-4877-d44a-bca73728d874"
      },
      "execution_count": 12,
      "outputs": [
        {
          "output_type": "stream",
          "name": "stdout",
          "text": [
            "Menu de Conversão de Temperaturas:\n",
            "1. Celsius para Fahrenheit\n",
            "2. Fahrenheit para Celsius\n",
            "3. Sair\n",
            "Escolha uma opção: 1\n",
            "Digite a temperatura em Celsius: 36\n",
            "36.0°C equivale a 96.80°F\n",
            "Menu de Conversão de Temperaturas:\n",
            "1. Celsius para Fahrenheit\n",
            "2. Fahrenheit para Celsius\n",
            "3. Sair\n",
            "Escolha uma opção: 3\n",
            "Saindo...\n"
          ]
        }
      ]
    },
    {
      "cell_type": "markdown",
      "source": [
        "Faça um Programa que leia um número inteiro menor que 1000 e imprima a\n",
        "quantidade de centenas, dezenas e unidades dele.\n",
        "a. Observando os termos no plural a colocação do \"e\", da vírgula entre\n",
        "outros. Exemplo:\n",
        "b. 326 = 3 centenas, 2 dezenas e 6 unidades\n",
        "c. 12 = 1 dezena e 2 unidades\n",
        "Testar com: 326, 300, 100, 320, 310,305, 301, 101, 311, 111, 25, 20, 10, 21, 11,\n",
        "1, 7 e 16"
      ],
      "metadata": {
        "id": "yef66p7s0tqo"
      }
    },
    {
      "cell_type": "code",
      "source": [
        "def unidades_dezenas_centenas(numero):\n",
        "\n",
        "    if numero < 0 or numero >= 1000:\n",
        "        print(\"O número digitado  não serve! Digite um número entre 0 e 999!\")\n",
        "        return\n",
        "\n",
        "    centenas = numero // 100\n",
        "    dezenas = (numero % 100) // 10\n",
        "    unidades = numero % 10\n",
        "\n",
        "    mensagem = \"\"\n",
        "    if centenas > 0:\n",
        "        mensagem += f\"{centenas} centena{'s' if centenas > 1 else ''} \"\n",
        "    if dezenas > 0:\n",
        "        mensagem += f\"{dezenas} dezena{'s' if dezenas > 1 else ''} \"\n",
        "    if unidades > 0:\n",
        "        mensagem += f\"e {unidades} unidade{'s' if unidades > 1 else ''} \"\n",
        "    elif centenas == 0 and dezenas == 0:\n",
        "        mensagem = \"Zero! Sem nada por aqui!\"\n",
        "\n",
        "    print(f\"O número {numero} é composto por: {mensagem}\")\n",
        "\n",
        "numeros = [326, 300, 100, 320, 310, 305, 301, 101, 311, 111, 25, 20, 10, 21, 11, 1, 7, 16]\n",
        "for numero in numeros:\n",
        "    unidades_dezenas_centenas(numero)"
      ],
      "metadata": {
        "colab": {
          "base_uri": "https://localhost:8080/"
        },
        "collapsed": true,
        "id": "bfgA2FAp0xlo",
        "outputId": "cd7775da-48e9-420c-cce7-cc8caec49aa2"
      },
      "execution_count": 18,
      "outputs": [
        {
          "output_type": "stream",
          "name": "stdout",
          "text": [
            "O número 326 é composto por: 3 centenas 2 dezenas e 6 unidades \n",
            "O número 300 é composto por: 3 centenas \n",
            "O número 100 é composto por: 1 centena \n",
            "O número 320 é composto por: 3 centenas 2 dezenas \n",
            "O número 310 é composto por: 3 centenas 1 dezena \n",
            "O número 305 é composto por: 3 centenas e 5 unidades \n",
            "O número 301 é composto por: 3 centenas e 1 unidade \n",
            "O número 101 é composto por: 1 centena e 1 unidade \n",
            "O número 311 é composto por: 3 centenas 1 dezena e 1 unidade \n",
            "O número 111 é composto por: 1 centena 1 dezena e 1 unidade \n",
            "O número 25 é composto por: 2 dezenas e 5 unidades \n",
            "O número 20 é composto por: 2 dezenas \n",
            "O número 10 é composto por: 1 dezena \n",
            "O número 21 é composto por: 2 dezenas e 1 unidade \n",
            "O número 11 é composto por: 1 dezena e 1 unidade \n",
            "O número 1 é composto por: e 1 unidade \n",
            "O número 7 é composto por: e 7 unidades \n",
            "O número 16 é composto por: 1 dezena e 6 unidades \n"
          ]
        }
      ]
    },
    {
      "cell_type": "markdown",
      "source": [
        "O Sr. Manoel Joaquim acaba de adquirir uma panificadora e pretende implantar a\n",
        "metodologia da tabelinha, que já é um sucesso na sua loja de 1,99. Você foi\n",
        "contratado para desenvolver o programa que monta a tabela de preços de pães, de\n",
        "1 até 50 pães, a partir do preço do pão informado pelo usuário, conforme o exemplo\n",
        "abaixo:\n",
        "Preço do pão: R$ 0.18\n",
        "Panificadora Pão de Ontem - Tabela de preços\n",
        "1 - R$ 0.18\n",
        "2 - R$ 0.36\n",
        "...\n",
        "50 - R$ 9.00"
      ],
      "metadata": {
        "id": "glsxL4xez-Mp"
      }
    },
    {
      "cell_type": "code",
      "source": [
        "def gerar_tabela_precos(quantidade_maxima):\n",
        "\n",
        "\n",
        "  valor_unitario = 1.99\n",
        "  tabela = []\n",
        "  for quantidade in range(1, quantidade_maxima + 1):\n",
        "      valor_total = quantidade * valor_unitario\n",
        "      tabela.append(f\"Valor por quantidade {quantidade} - R$ {valor_total:.2f}\")\n",
        "\n",
        "  return \"\\n\".join(tabela)\n",
        "\n",
        "\n",
        "quantidade_maxima = 50\n",
        "\n",
        "\n",
        "tabela_precos = gerar_tabela_precos(quantidade_maxima)\n",
        "print(\"-----------------------------------\")\n",
        "print(\"Lojas Quase Dois - Tabela de preços\")\n",
        "print(\"-----------------------------------\")\n",
        "print(tabela_precos)\n",
        "print(\"-----------------------------------\")"
      ],
      "metadata": {
        "colab": {
          "base_uri": "https://localhost:8080/"
        },
        "collapsed": true,
        "id": "sER7wjZSz6Ep",
        "outputId": "74dda8e3-9ecc-4f66-e5ee-7d17b7a82c7c"
      },
      "execution_count": 15,
      "outputs": [
        {
          "output_type": "stream",
          "name": "stdout",
          "text": [
            "-----------------------------------\n",
            "Lojas Quase Dois - Tabela de preços\n",
            "-----------------------------------\n",
            "Valor por quantidade 1 - R$ 1.99\n",
            "Valor por quantidade 2 - R$ 3.98\n",
            "Valor por quantidade 3 - R$ 5.97\n",
            "Valor por quantidade 4 - R$ 7.96\n",
            "Valor por quantidade 5 - R$ 9.95\n",
            "Valor por quantidade 6 - R$ 11.94\n",
            "Valor por quantidade 7 - R$ 13.93\n",
            "Valor por quantidade 8 - R$ 15.92\n",
            "Valor por quantidade 9 - R$ 17.91\n",
            "Valor por quantidade 10 - R$ 19.90\n",
            "Valor por quantidade 11 - R$ 21.89\n",
            "Valor por quantidade 12 - R$ 23.88\n",
            "Valor por quantidade 13 - R$ 25.87\n",
            "Valor por quantidade 14 - R$ 27.86\n",
            "Valor por quantidade 15 - R$ 29.85\n",
            "Valor por quantidade 16 - R$ 31.84\n",
            "Valor por quantidade 17 - R$ 33.83\n",
            "Valor por quantidade 18 - R$ 35.82\n",
            "Valor por quantidade 19 - R$ 37.81\n",
            "Valor por quantidade 20 - R$ 39.80\n",
            "Valor por quantidade 21 - R$ 41.79\n",
            "Valor por quantidade 22 - R$ 43.78\n",
            "Valor por quantidade 23 - R$ 45.77\n",
            "Valor por quantidade 24 - R$ 47.76\n",
            "Valor por quantidade 25 - R$ 49.75\n",
            "Valor por quantidade 26 - R$ 51.74\n",
            "Valor por quantidade 27 - R$ 53.73\n",
            "Valor por quantidade 28 - R$ 55.72\n",
            "Valor por quantidade 29 - R$ 57.71\n",
            "Valor por quantidade 30 - R$ 59.70\n",
            "Valor por quantidade 31 - R$ 61.69\n",
            "Valor por quantidade 32 - R$ 63.68\n",
            "Valor por quantidade 33 - R$ 65.67\n",
            "Valor por quantidade 34 - R$ 67.66\n",
            "Valor por quantidade 35 - R$ 69.65\n",
            "Valor por quantidade 36 - R$ 71.64\n",
            "Valor por quantidade 37 - R$ 73.63\n",
            "Valor por quantidade 38 - R$ 75.62\n",
            "Valor por quantidade 39 - R$ 77.61\n",
            "Valor por quantidade 40 - R$ 79.60\n",
            "Valor por quantidade 41 - R$ 81.59\n",
            "Valor por quantidade 42 - R$ 83.58\n",
            "Valor por quantidade 43 - R$ 85.57\n",
            "Valor por quantidade 44 - R$ 87.56\n",
            "Valor por quantidade 45 - R$ 89.55\n",
            "Valor por quantidade 46 - R$ 91.54\n",
            "Valor por quantidade 47 - R$ 93.53\n",
            "Valor por quantidade 48 - R$ 95.52\n",
            "Valor por quantidade 49 - R$ 97.51\n",
            "Valor por quantidade 50 - R$ 99.50\n",
            "-----------------------------------\n"
          ]
        }
      ]
    },
    {
      "cell_type": "markdown",
      "source": [
        "Construa uma função que desenhe um retângulo usando os caracteres ‘+’ , ‘−’ e ‘| ‘.\n",
        "Esta função deve receber dois parâmetros, linhas e colunas, sendo que o valor por\n",
        "omissão é o valor mínimo igual a 1 e o valor máximo é 20. Se valores fora da faixa\n",
        "forem informados, eles devem ser modificados para valores dentro da faixa de\n",
        "forma elegante."
      ],
      "metadata": {
        "id": "A8J93IkP5Top"
      }
    },
    {
      "cell_type": "code",
      "source": [
        "import itertools\n",
        "\n",
        "def desenha_retangulo(linhas=1, colunas=1):\n",
        "    linhas = max(1, min(linhas, 20))\n",
        "    colunas = max(1, min(colunas, 20))\n",
        "    print(\"+\" + \"-\" * colunas + \"+\")\n",
        "    for _ in range(linhas):\n",
        "        print(\"|\" + \" \" * colunas + \"|\")\n",
        "    print(\"+\" + \"-\" * colunas + \"+\")\n",
        "\n",
        "def verificaQuadrado(quadrado):\n",
        "\n",
        "    soma_quadrado = sum(quadrado[0])\n",
        "\n",
        "    for linha in quadrado:\n",
        "        if sum(linha) != soma_quadrado:\n",
        "            return False\n",
        "    for i in range(3):\n",
        "        if sum(quadrado[j][i] for j in range(3)) != soma_quadrado:\n",
        "            return False\n",
        "    if sum(quadrado[i][i] for i in range(3)) != soma_quadrado:\n",
        "        return False\n",
        "    if sum(quadrado[i][2-i] for i in range(3)) != soma_quadrado:\n",
        "        return False\n",
        "    return True\n",
        "\n",
        "def encontra_quadrados():\n",
        "    quadrados_magicos = []\n",
        "    for permutacao in itertools.permutations(range(1, 10)):\n",
        "        quadrado = [permutacao[:3], permutacao[3:6], permutacao[6:]]\n",
        "        if verificaQuadrado(quadrado):\n",
        "            quadrados_magicos.append(quadrado)\n",
        "    return quadrados_magicos\n",
        "\n",
        "desenha_retangulo(5, 10)\n"
      ],
      "metadata": {
        "colab": {
          "base_uri": "https://localhost:8080/"
        },
        "collapsed": true,
        "id": "Sxz5OYVL3oDB",
        "outputId": "b0691d3d-1196-43bb-d96b-3b90a50b7fd2"
      },
      "execution_count": 24,
      "outputs": [
        {
          "output_type": "stream",
          "name": "stdout",
          "text": [
            "+----------+\n",
            "|          |\n",
            "|          |\n",
            "|          |\n",
            "|          |\n",
            "|          |\n",
            "+----------+\n"
          ]
        }
      ]
    },
    {
      "cell_type": "markdown",
      "source": [
        "Quadrado mágico. Um quadrado mágico é aquele dividido em linhas e colunas,\n",
        "com um número em cada posição e no qual a soma das linhas, colunas e\n",
        "diagonais é a mesma. Por exemplo, veja um quadrado mágico de lado 3, com\n",
        "números de 1 a 9:\n",
        "8 3 4\n",
        "1 5 9\n",
        "6 7 2\n",
        "Elabore uma função que identifica e mostra na tela todos os quadrados mágicos\n",
        "com as características acima. Dica: produza todas as combinações possíveis e\n",
        "verifique a soma quando completar cada quadrado. Usar um vetor de 1 a 9 parece\n",
        "ser mais simples que usar uma matriz 3x3."
      ],
      "metadata": {
        "id": "jAMcl9cC5rKI"
      }
    },
    {
      "cell_type": "code",
      "source": [
        "import itertools\n",
        "\n",
        "def verificaQuadrado(quadrado):\n",
        "\n",
        "    soma = sum(quadrado[0])\n",
        "    for linha in quadrado:\n",
        "        if sum(linha) != soma:\n",
        "            return False\n",
        "    for coluna in range(3):\n",
        "        if sum(quadrado[i][coluna] for i in range(3)) != soma:\n",
        "            return False\n",
        "\n",
        "    if sum(quadrado[i][i] for i in range(3)) != soma:\n",
        "        return False\n",
        "    if sum(quadrado[i][2-i] for i in range(3)) != soma:\n",
        "        return False\n",
        "    return True\n",
        "\n",
        "def encontra_quadrados():\n",
        "\n",
        "    listaQuadrado = []\n",
        "    for permutacao in itertools.permutations(range(1, 10)):\n",
        "        quadrado = [permutacao[:3], permutacao[3:6], permutacao[6:]]\n",
        "        if verificaQuadrado(quadrado):\n",
        "            listaQuadrado.append(quadrado)\n",
        "    return listaQuadrado\n",
        "\n",
        "\n",
        "quadrados = encontra_quadrados()\n",
        "print(\"Numero do quadrado  encontrados:\")\n",
        "for quadrado in quadrados:\n",
        "    print(quadrado)\n"
      ],
      "metadata": {
        "colab": {
          "base_uri": "https://localhost:8080/"
        },
        "collapsed": true,
        "id": "gby45ne65xWY",
        "outputId": "4aaa7925-baf1-44d7-b63d-a766a5b50999"
      },
      "execution_count": 26,
      "outputs": [
        {
          "output_type": "stream",
          "name": "stdout",
          "text": [
            "Numero do quadrado  encontrados:\n",
            "[(2, 7, 6), (9, 5, 1), (4, 3, 8)]\n",
            "[(2, 9, 4), (7, 5, 3), (6, 1, 8)]\n",
            "[(4, 3, 8), (9, 5, 1), (2, 7, 6)]\n",
            "[(4, 9, 2), (3, 5, 7), (8, 1, 6)]\n",
            "[(6, 1, 8), (7, 5, 3), (2, 9, 4)]\n",
            "[(6, 7, 2), (1, 5, 9), (8, 3, 4)]\n",
            "[(8, 1, 6), (3, 5, 7), (4, 9, 2)]\n",
            "[(8, 3, 4), (1, 5, 9), (6, 7, 2)]\n"
          ]
        }
      ]
    }
  ]
}